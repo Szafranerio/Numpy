{
 "cells": [
  {
   "cell_type": "code",
   "execution_count": 2,
   "metadata": {},
   "outputs": [],
   "source": [
    "import sys \n",
    "import numpy as np"
   ]
  },
  {
   "cell_type": "code",
   "execution_count": 3,
   "metadata": {},
   "outputs": [],
   "source": [
    "#Define A and B as an array with values\n",
    "a = np.array ([1,2,3,4,5,6,7,8])\n",
    "b = np.array ([4,0.5,4.5,6.5,6.8,9.8])\n"
   ]
  },
  {
   "cell_type": "code",
   "execution_count": 4,
   "metadata": {},
   "outputs": [
    {
     "data": {
      "text/plain": [
       "(1, 5, 4.5, 6.8)"
      ]
     },
     "execution_count": 4,
     "metadata": {},
     "output_type": "execute_result"
    }
   ],
   "source": [
    "a[0], a[4], b[2], b[4]"
   ]
  },
  {
   "cell_type": "code",
   "execution_count": 5,
   "metadata": {},
   "outputs": [
    {
     "data": {
      "text/plain": [
       "(array([1, 2, 3, 4, 5, 6, 7, 8]), array([6.5, 6.8, 9.8]))"
      ]
     },
     "execution_count": 5,
     "metadata": {},
     "output_type": "execute_result"
    }
   ],
   "source": [
    "a[0:], b[3:]"
   ]
  },
  {
   "cell_type": "code",
   "execution_count": 6,
   "metadata": {},
   "outputs": [
    {
     "data": {
      "text/plain": [
       "array([1, 2, 3, 4, 5, 6, 7, 8])"
      ]
     },
     "execution_count": 6,
     "metadata": {},
     "output_type": "execute_result"
    }
   ],
   "source": [
    "a"
   ]
  },
  {
   "cell_type": "code",
   "execution_count": 7,
   "metadata": {},
   "outputs": [
    {
     "data": {
      "text/plain": [
       "array([4. , 0.5, 4.5, 6.5, 6.8, 9.8])"
      ]
     },
     "execution_count": 7,
     "metadata": {},
     "output_type": "execute_result"
    }
   ],
   "source": [
    "b"
   ]
  },
  {
   "cell_type": "code",
   "execution_count": 8,
   "metadata": {},
   "outputs": [
    {
     "data": {
      "text/plain": [
       "dtype('int64')"
      ]
     },
     "execution_count": 8,
     "metadata": {},
     "output_type": "execute_result"
    }
   ],
   "source": [
    "a.dtype"
   ]
  },
  {
   "cell_type": "code",
   "execution_count": 9,
   "metadata": {},
   "outputs": [
    {
     "data": {
      "text/plain": [
       "dtype('float64')"
      ]
     },
     "execution_count": 9,
     "metadata": {},
     "output_type": "execute_result"
    }
   ],
   "source": [
    "#Different type because of values in the B array \n",
    "b.dtype\n"
   ]
  },
  {
   "cell_type": "code",
   "execution_count": 10,
   "metadata": {},
   "outputs": [],
   "source": [
    "A = np.array([\n",
    "    [1,2,3], [4,5,6]])"
   ]
  },
  {
   "cell_type": "code",
   "execution_count": 11,
   "metadata": {},
   "outputs": [
    {
     "data": {
      "text/plain": [
       "(2, 3)"
      ]
     },
     "execution_count": 11,
     "metadata": {},
     "output_type": "execute_result"
    }
   ],
   "source": [
    "A.shape"
   ]
  },
  {
   "cell_type": "code",
   "execution_count": 12,
   "metadata": {},
   "outputs": [
    {
     "data": {
      "text/plain": [
       "2"
      ]
     },
     "execution_count": 12,
     "metadata": {},
     "output_type": "execute_result"
    }
   ],
   "source": [
    "#Total dimensions \n",
    "A.ndim"
   ]
  },
  {
   "cell_type": "code",
   "execution_count": 13,
   "metadata": {},
   "outputs": [
    {
     "data": {
      "text/plain": [
       "6"
      ]
     },
     "execution_count": 13,
     "metadata": {},
     "output_type": "execute_result"
    }
   ],
   "source": [
    "#Total value \n",
    "A.size"
   ]
  },
  {
   "cell_type": "code",
   "execution_count": 14,
   "metadata": {},
   "outputs": [],
   "source": [
    "B = np.array ([[[1,2,3],[4,5,6]], [[7,8,9],[10,11,12]]])"
   ]
  },
  {
   "cell_type": "code",
   "execution_count": 15,
   "metadata": {},
   "outputs": [
    {
     "data": {
      "text/plain": [
       "array([[[ 1,  2,  3],\n",
       "        [ 4,  5,  6]],\n",
       "\n",
       "       [[ 7,  8,  9],\n",
       "        [10, 11, 12]]])"
      ]
     },
     "execution_count": 15,
     "metadata": {},
     "output_type": "execute_result"
    }
   ],
   "source": [
    "B"
   ]
  },
  {
   "cell_type": "code",
   "execution_count": 16,
   "metadata": {},
   "outputs": [
    {
     "data": {
      "text/plain": [
       "(2, 2, 3)"
      ]
     },
     "execution_count": 16,
     "metadata": {},
     "output_type": "execute_result"
    }
   ],
   "source": [
    "B.shape"
   ]
  },
  {
   "cell_type": "code",
   "execution_count": 17,
   "metadata": {},
   "outputs": [
    {
     "data": {
      "text/plain": [
       "3"
      ]
     },
     "execution_count": 17,
     "metadata": {},
     "output_type": "execute_result"
    }
   ],
   "source": [
    "B.ndim"
   ]
  },
  {
   "cell_type": "code",
   "execution_count": 18,
   "metadata": {},
   "outputs": [
    {
     "data": {
      "text/plain": [
       "12"
      ]
     },
     "execution_count": 18,
     "metadata": {},
     "output_type": "execute_result"
    }
   ],
   "source": [
    "B.size"
   ]
  },
  {
   "cell_type": "code",
   "execution_count": 19,
   "metadata": {},
   "outputs": [
    {
     "name": "stdout",
     "output_type": "stream",
     "text": [
      "[[ 1  2  3  4  5  6  7]\n",
      " [ 8  9 10 11 12 13 14]]\n"
     ]
    }
   ],
   "source": [
    "a = np.array([[1,2,3,4,5,6,7],[8,9,10,11,12,13,14]])\n",
    "print(a)"
   ]
  },
  {
   "cell_type": "code",
   "execution_count": 20,
   "metadata": {},
   "outputs": [
    {
     "data": {
      "text/plain": [
       "13"
      ]
     },
     "execution_count": 20,
     "metadata": {},
     "output_type": "execute_result"
    }
   ],
   "source": [
    "#Get specific values\n",
    "a[1,5]"
   ]
  },
  {
   "cell_type": "code",
   "execution_count": 21,
   "metadata": {},
   "outputs": [
    {
     "data": {
      "text/plain": [
       "13"
      ]
     },
     "execution_count": 21,
     "metadata": {},
     "output_type": "execute_result"
    }
   ],
   "source": [
    "a[1,-2]"
   ]
  },
  {
   "cell_type": "code",
   "execution_count": 23,
   "metadata": {},
   "outputs": [
    {
     "data": {
      "text/plain": [
       "array([1, 2, 3, 4, 5, 6, 7])"
      ]
     },
     "execution_count": 23,
     "metadata": {},
     "output_type": "execute_result"
    }
   ],
   "source": [
    "#Get a specific row\n",
    "a[0,:]"
   ]
  },
  {
   "cell_type": "code",
   "execution_count": 24,
   "metadata": {},
   "outputs": [
    {
     "data": {
      "text/plain": [
       "array([1, 8])"
      ]
     },
     "execution_count": 24,
     "metadata": {},
     "output_type": "execute_result"
    }
   ],
   "source": [
    "#Get a specific column\n",
    "a[:,0]"
   ]
  },
  {
   "cell_type": "code",
   "execution_count": 26,
   "metadata": {},
   "outputs": [
    {
     "name": "stdout",
     "output_type": "stream",
     "text": [
      "[[ 1  2  3  4  5  6  7]\n",
      " [ 8  9 10 11 12 20 14]]\n"
     ]
    }
   ],
   "source": [
    "a[1,5]=20\n",
    "print(a)"
   ]
  },
  {
   "cell_type": "markdown",
   "metadata": {},
   "source": [
    "Initialize different types of arrys"
   ]
  },
  {
   "cell_type": "code",
   "execution_count": 27,
   "metadata": {},
   "outputs": [
    {
     "data": {
      "text/plain": [
       "array([[0., 0., 0.],\n",
       "       [0., 0., 0.]])"
      ]
     },
     "execution_count": 27,
     "metadata": {},
     "output_type": "execute_result"
    }
   ],
   "source": [
    "#All 0s matrix\n",
    "np.zeros((2,3))"
   ]
  },
  {
   "cell_type": "code",
   "execution_count": 28,
   "metadata": {},
   "outputs": [
    {
     "data": {
      "text/plain": [
       "array([[1., 1., 1.],\n",
       "       [1., 1., 1.]])"
      ]
     },
     "execution_count": 28,
     "metadata": {},
     "output_type": "execute_result"
    }
   ],
   "source": [
    "#All 1s matrix\n",
    "np.ones((2,3))"
   ]
  },
  {
   "cell_type": "code",
   "execution_count": 34,
   "metadata": {},
   "outputs": [
    {
     "data": {
      "text/plain": [
       "array([[89., 89., 89., 89., 89.],\n",
       "       [89., 89., 89., 89., 89.]], dtype=float32)"
      ]
     },
     "execution_count": 34,
     "metadata": {},
     "output_type": "execute_result"
    }
   ],
   "source": [
    "#Any other number\n",
    "np.full((2,5), 89, dtype= 'float32')"
   ]
  },
  {
   "cell_type": "code",
   "execution_count": 35,
   "metadata": {},
   "outputs": [
    {
     "data": {
      "text/plain": [
       "array([[5, 5, 5, 5, 5, 5, 5],\n",
       "       [5, 5, 5, 5, 5, 5, 5]])"
      ]
     },
     "execution_count": 35,
     "metadata": {},
     "output_type": "execute_result"
    }
   ],
   "source": [
    "#Full_like (keeps the shape but can change rest)\n",
    "np.full_like(a, 5)"
   ]
  },
  {
   "cell_type": "code",
   "execution_count": 38,
   "metadata": {},
   "outputs": [
    {
     "data": {
      "text/plain": [
       "array([[[0.23277756, 0.63552572, 0.91479684, 0.70033467, 0.41352468],\n",
       "        [0.73886728, 0.69051978, 0.24747048, 0.36606802, 0.28088253],\n",
       "        [0.69646833, 0.86428256, 0.10245616, 0.034448  , 0.27474741],\n",
       "        [0.75014742, 0.0867775 , 0.06907479, 0.72203706, 0.03329385]],\n",
       "\n",
       "       [[0.67726234, 0.39278167, 0.23980767, 0.57710384, 0.0058289 ],\n",
       "        [0.04174829, 0.28381583, 0.48457236, 0.41184509, 0.79048875],\n",
       "        [0.76223394, 0.23391675, 0.44008317, 0.18102736, 0.83175228],\n",
       "        [0.05856405, 0.77582008, 0.04278298, 0.91906825, 0.13665031]],\n",
       "\n",
       "       [[0.79836355, 0.83431446, 0.52455938, 0.11892502, 0.24745977],\n",
       "        [0.16680401, 0.75057691, 0.80773071, 0.88750142, 0.20014526],\n",
       "        [0.03674313, 0.47354897, 0.710454  , 0.82751951, 0.97848625],\n",
       "        [0.84377731, 0.79443163, 0.29688   , 0.3156652 , 0.37077141]]])"
      ]
     },
     "execution_count": 38,
     "metadata": {},
     "output_type": "execute_result"
    }
   ],
   "source": [
    "#Random decimal numbers\n",
    "np.random.rand(3,4,5)"
   ]
  },
  {
   "cell_type": "code",
   "execution_count": 44,
   "metadata": {},
   "outputs": [
    {
     "data": {
      "text/plain": [
       "array([[[[6, 6, 3, 4, 6, 4],\n",
       "         [5, 0, 2, 8, 7, 1],\n",
       "         [8, 1, 7, 3, 8, 7],\n",
       "         [4, 0, 3, 6, 7, 5],\n",
       "         [1, 0, 3, 5, 2, 1]],\n",
       "\n",
       "        [[1, 0, 2, 3, 6, 8],\n",
       "         [3, 3, 0, 0, 5, 8],\n",
       "         [0, 1, 7, 2, 8, 5],\n",
       "         [6, 3, 4, 4, 6, 0],\n",
       "         [6, 3, 3, 0, 7, 2]],\n",
       "\n",
       "        [[3, 7, 3, 2, 1, 6],\n",
       "         [6, 3, 8, 3, 0, 0],\n",
       "         [5, 3, 6, 7, 8, 7],\n",
       "         [8, 1, 3, 5, 7, 6],\n",
       "         [5, 0, 5, 0, 7, 8]],\n",
       "\n",
       "        [[4, 5, 0, 3, 1, 3],\n",
       "         [4, 6, 8, 5, 6, 3],\n",
       "         [2, 6, 6, 3, 5, 4],\n",
       "         [7, 1, 2, 0, 7, 2],\n",
       "         [7, 7, 8, 7, 2, 2]]],\n",
       "\n",
       "\n",
       "       [[[7, 3, 7, 4, 8, 5],\n",
       "         [7, 2, 4, 3, 4, 3],\n",
       "         [0, 5, 3, 6, 0, 3],\n",
       "         [4, 2, 7, 8, 0, 8],\n",
       "         [3, 6, 6, 6, 7, 5]],\n",
       "\n",
       "        [[2, 4, 7, 5, 1, 3],\n",
       "         [8, 1, 1, 4, 6, 0],\n",
       "         [8, 7, 3, 5, 1, 7],\n",
       "         [7, 3, 8, 0, 7, 7],\n",
       "         [8, 1, 6, 7, 8, 6]],\n",
       "\n",
       "        [[1, 3, 7, 7, 1, 4],\n",
       "         [5, 2, 1, 1, 5, 5],\n",
       "         [5, 4, 3, 2, 1, 6],\n",
       "         [8, 3, 2, 6, 7, 8],\n",
       "         [6, 1, 2, 6, 4, 4]],\n",
       "\n",
       "        [[4, 3, 7, 4, 1, 2],\n",
       "         [1, 8, 0, 7, 7, 0],\n",
       "         [7, 3, 8, 3, 2, 5],\n",
       "         [1, 5, 1, 4, 2, 6],\n",
       "         [8, 5, 7, 6, 6, 2]]],\n",
       "\n",
       "\n",
       "       [[[8, 1, 0, 3, 4, 2],\n",
       "         [8, 5, 2, 2, 2, 5],\n",
       "         [5, 0, 0, 6, 3, 3],\n",
       "         [8, 0, 7, 7, 1, 2],\n",
       "         [4, 3, 7, 3, 0, 2]],\n",
       "\n",
       "        [[8, 6, 3, 4, 4, 1],\n",
       "         [5, 8, 8, 4, 3, 8],\n",
       "         [7, 0, 4, 3, 0, 4],\n",
       "         [7, 4, 5, 4, 0, 7],\n",
       "         [2, 8, 5, 3, 5, 4]],\n",
       "\n",
       "        [[2, 6, 3, 5, 5, 5],\n",
       "         [7, 0, 1, 5, 4, 2],\n",
       "         [0, 3, 8, 8, 3, 6],\n",
       "         [7, 0, 5, 7, 8, 5],\n",
       "         [0, 8, 4, 5, 3, 8]],\n",
       "\n",
       "        [[7, 7, 5, 1, 7, 1],\n",
       "         [6, 7, 0, 5, 0, 6],\n",
       "         [8, 8, 4, 8, 3, 8],\n",
       "         [5, 8, 3, 4, 5, 2],\n",
       "         [7, 8, 4, 4, 2, 3]]],\n",
       "\n",
       "\n",
       "       [[[3, 4, 2, 5, 8, 0],\n",
       "         [1, 6, 3, 1, 1, 3],\n",
       "         [0, 3, 1, 1, 5, 3],\n",
       "         [5, 0, 4, 4, 6, 3],\n",
       "         [7, 6, 1, 0, 0, 6]],\n",
       "\n",
       "        [[4, 0, 8, 3, 8, 0],\n",
       "         [4, 3, 8, 5, 5, 0],\n",
       "         [2, 1, 4, 2, 8, 0],\n",
       "         [8, 2, 2, 2, 4, 2],\n",
       "         [2, 1, 0, 2, 2, 5]],\n",
       "\n",
       "        [[5, 1, 4, 0, 5, 0],\n",
       "         [4, 8, 0, 4, 4, 5],\n",
       "         [4, 4, 7, 1, 6, 2],\n",
       "         [1, 6, 4, 6, 7, 6],\n",
       "         [8, 0, 0, 7, 4, 7]],\n",
       "\n",
       "        [[8, 6, 1, 3, 7, 6],\n",
       "         [7, 7, 4, 0, 4, 3],\n",
       "         [7, 1, 3, 4, 8, 5],\n",
       "         [1, 8, 4, 7, 4, 4],\n",
       "         [5, 5, 6, 7, 7, 7]]]])"
      ]
     },
     "execution_count": 44,
     "metadata": {},
     "output_type": "execute_result"
    }
   ],
   "source": [
    "#Random Integar number\n",
    "np.random.randint(9, size=(4,4,5,6))"
   ]
  },
  {
   "cell_type": "code",
   "execution_count": 45,
   "metadata": {},
   "outputs": [
    {
     "name": "stdout",
     "output_type": "stream",
     "text": [
      "[[1 2 3]\n",
      " [1 2 3]\n",
      " [1 2 3]]\n"
     ]
    }
   ],
   "source": [
    "arr = np.array([[1,2,3]])\n",
    "r1= np.repeat(arr,3, axis=0)\n",
    "print(r1)"
   ]
  },
  {
   "cell_type": "code",
   "execution_count": 55,
   "metadata": {},
   "outputs": [
    {
     "name": "stdout",
     "output_type": "stream",
     "text": [
      "[[1. 1. 1. 1. 1.]\n",
      " [1. 0. 0. 0. 1.]\n",
      " [1. 0. 9. 0. 1.]\n",
      " [1. 0. 0. 0. 1.]\n",
      " [1. 1. 1. 1. 1.]]\n"
     ]
    }
   ],
   "source": [
    "output = np.ones((5,5))\n",
    "z = np.zeros((3,3))\n",
    "z[1,1]=9\n",
    "output [1:4,1:4]= z\n",
    "print(output)"
   ]
  },
  {
   "cell_type": "markdown",
   "metadata": {},
   "source": [
    "Math in Numpy"
   ]
  },
  {
   "cell_type": "code",
   "execution_count": 59,
   "metadata": {},
   "outputs": [
    {
     "name": "stdout",
     "output_type": "stream",
     "text": [
      "[6 6 4 4 4 7 4 2 7 6 7 2 6 5 6 0 3 6 2 8 4 1 3 1 0 1 5 7 6 2 8 4 1 1 7 0 0\n",
      " 8 3 6 4 0 7 4 4 5 2 8 5 6 4 2 6 6 0 1]\n"
     ]
    }
   ],
   "source": [
    "a = np.random.randint(9, size= 56)\n",
    "print(a)"
   ]
  },
  {
   "cell_type": "code",
   "execution_count": 60,
   "metadata": {},
   "outputs": [
    {
     "data": {
      "text/plain": [
       "array([ 8,  8,  6,  6,  6,  9,  6,  4,  9,  8,  9,  4,  8,  7,  8,  2,  5,\n",
       "        8,  4, 10,  6,  3,  5,  3,  2,  3,  7,  9,  8,  4, 10,  6,  3,  3,\n",
       "        9,  2,  2, 10,  5,  8,  6,  2,  9,  6,  6,  7,  4, 10,  7,  8,  6,\n",
       "        4,  8,  8,  2,  3])"
      ]
     },
     "execution_count": 60,
     "metadata": {},
     "output_type": "execute_result"
    }
   ],
   "source": [
    "a + 2"
   ]
  },
  {
   "cell_type": "code",
   "execution_count": 61,
   "metadata": {},
   "outputs": [
    {
     "data": {
      "text/plain": [
       "array([ 4,  4,  2,  2,  2,  5,  2,  0,  5,  4,  5,  0,  4,  3,  4, -2,  1,\n",
       "        4,  0,  6,  2, -1,  1, -1, -2, -1,  3,  5,  4,  0,  6,  2, -1, -1,\n",
       "        5, -2, -2,  6,  1,  4,  2, -2,  5,  2,  2,  3,  0,  6,  3,  4,  2,\n",
       "        0,  4,  4, -2, -1])"
      ]
     },
     "execution_count": 61,
     "metadata": {},
     "output_type": "execute_result"
    }
   ],
   "source": [
    "a - 2"
   ]
  },
  {
   "cell_type": "code",
   "execution_count": 62,
   "metadata": {},
   "outputs": [
    {
     "data": {
      "text/plain": [
       "array([12, 12,  8,  8,  8, 14,  8,  4, 14, 12, 14,  4, 12, 10, 12,  0,  6,\n",
       "       12,  4, 16,  8,  2,  6,  2,  0,  2, 10, 14, 12,  4, 16,  8,  2,  2,\n",
       "       14,  0,  0, 16,  6, 12,  8,  0, 14,  8,  8, 10,  4, 16, 10, 12,  8,\n",
       "        4, 12, 12,  0,  2])"
      ]
     },
     "execution_count": 62,
     "metadata": {},
     "output_type": "execute_result"
    }
   ],
   "source": [
    "a * 2"
   ]
  },
  {
   "cell_type": "code",
   "execution_count": 64,
   "metadata": {},
   "outputs": [
    {
     "data": {
      "text/plain": [
       "array([ 789730223053602816,  789730223053602816,      70368744177664,\n",
       "            70368744177664,      70368744177664, 8922003266371364727,\n",
       "            70368744177664,             8388608, 8922003266371364727,\n",
       "        789730223053602816, 8922003266371364727,             8388608,\n",
       "        789730223053602816,   11920928955078125,  789730223053602816,\n",
       "                         0,         94143178827,  789730223053602816,\n",
       "                   8388608,                   0,      70368744177664,\n",
       "                         1,         94143178827,                   1,\n",
       "                         0,                   1,   11920928955078125,\n",
       "       8922003266371364727,  789730223053602816,             8388608,\n",
       "                         0,      70368744177664,                   1,\n",
       "                         1, 8922003266371364727,                   0,\n",
       "                         0,                   0,         94143178827,\n",
       "        789730223053602816,      70368744177664,                   0,\n",
       "       8922003266371364727,      70368744177664,      70368744177664,\n",
       "         11920928955078125,             8388608,                   0,\n",
       "         11920928955078125,  789730223053602816,      70368744177664,\n",
       "                   8388608,  789730223053602816,  789730223053602816,\n",
       "                         0,                   1])"
      ]
     },
     "execution_count": 64,
     "metadata": {},
     "output_type": "execute_result"
    }
   ],
   "source": [
    "a ** 23"
   ]
  },
  {
   "cell_type": "code",
   "execution_count": 66,
   "metadata": {},
   "outputs": [
    {
     "data": {
      "text/plain": [
       "array([-0.2794155 , -0.2794155 , -0.7568025 , -0.7568025 , -0.7568025 ,\n",
       "        0.6569866 , -0.7568025 ,  0.90929743,  0.6569866 , -0.2794155 ,\n",
       "        0.6569866 ,  0.90929743, -0.2794155 , -0.95892427, -0.2794155 ,\n",
       "        0.        ,  0.14112001, -0.2794155 ,  0.90929743,  0.98935825,\n",
       "       -0.7568025 ,  0.84147098,  0.14112001,  0.84147098,  0.        ,\n",
       "        0.84147098, -0.95892427,  0.6569866 , -0.2794155 ,  0.90929743,\n",
       "        0.98935825, -0.7568025 ,  0.84147098,  0.84147098,  0.6569866 ,\n",
       "        0.        ,  0.        ,  0.98935825,  0.14112001, -0.2794155 ,\n",
       "       -0.7568025 ,  0.        ,  0.6569866 , -0.7568025 , -0.7568025 ,\n",
       "       -0.95892427,  0.90929743,  0.98935825, -0.95892427, -0.2794155 ,\n",
       "       -0.7568025 ,  0.90929743, -0.2794155 , -0.2794155 ,  0.        ,\n",
       "        0.84147098])"
      ]
     },
     "execution_count": 66,
     "metadata": {},
     "output_type": "execute_result"
    }
   ],
   "source": [
    "np.sin(a)\n"
   ]
  },
  {
   "cell_type": "code",
   "execution_count": null,
   "metadata": {},
   "outputs": [],
   "source": [
    "#Linear algebra"
   ]
  },
  {
   "cell_type": "code",
   "execution_count": 69,
   "metadata": {},
   "outputs": [
    {
     "name": "stdout",
     "output_type": "stream",
     "text": [
      "[[6 6 6]\n",
      " [6 6 6]]\n",
      "[[2 2]\n",
      " [2 2]\n",
      " [2 2]]\n"
     ]
    }
   ],
   "source": [
    "a = np.full((2,3), 6)\n",
    "print(a)\n",
    "b = np.full((3,2),2)\n",
    "print(b)"
   ]
  },
  {
   "cell_type": "code",
   "execution_count": 70,
   "metadata": {},
   "outputs": [
    {
     "data": {
      "text/plain": [
       "array([[36, 36],\n",
       "       [36, 36]])"
      ]
     },
     "execution_count": 70,
     "metadata": {},
     "output_type": "execute_result"
    }
   ],
   "source": [
    "np.matmul(a,b)"
   ]
  },
  {
   "cell_type": "markdown",
   "metadata": {},
   "source": [
    "Statistics"
   ]
  },
  {
   "cell_type": "code",
   "execution_count": 74,
   "metadata": {},
   "outputs": [
    {
     "name": "stdout",
     "output_type": "stream",
     "text": [
      "[1 2 3 4 5 6 7 8 9]\n"
     ]
    }
   ],
   "source": [
    "stats = np.array ((1,2,3,4,5,6,7,8,9))\n",
    "print(stats)"
   ]
  },
  {
   "cell_type": "code",
   "execution_count": 76,
   "metadata": {},
   "outputs": [
    {
     "data": {
      "text/plain": [
       "1"
      ]
     },
     "execution_count": 76,
     "metadata": {},
     "output_type": "execute_result"
    }
   ],
   "source": [
    "np.min(stats)"
   ]
  },
  {
   "cell_type": "code",
   "execution_count": 77,
   "metadata": {},
   "outputs": [
    {
     "data": {
      "text/plain": [
       "9"
      ]
     },
     "execution_count": 77,
     "metadata": {},
     "output_type": "execute_result"
    }
   ],
   "source": [
    "np.max(stats)"
   ]
  },
  {
   "cell_type": "code",
   "execution_count": 78,
   "metadata": {},
   "outputs": [
    {
     "data": {
      "text/plain": [
       "5.0"
      ]
     },
     "execution_count": 78,
     "metadata": {},
     "output_type": "execute_result"
    }
   ],
   "source": [
    "np.mean(stats)"
   ]
  },
  {
   "cell_type": "code",
   "execution_count": 83,
   "metadata": {},
   "outputs": [
    {
     "data": {
      "text/plain": [
       "6.666666666666667"
      ]
     },
     "execution_count": 83,
     "metadata": {},
     "output_type": "execute_result"
    }
   ],
   "source": [
    "np.var(stats)"
   ]
  },
  {
   "cell_type": "markdown",
   "metadata": {},
   "source": [
    "Reorganizing Arrays"
   ]
  },
  {
   "cell_type": "code",
   "execution_count": 82,
   "metadata": {},
   "outputs": [
    {
     "name": "stdout",
     "output_type": "stream",
     "text": [
      "[[1 2]\n",
      " [3 4]\n",
      " [5 6]\n",
      " [7 8]]\n"
     ]
    }
   ],
   "source": [
    "before = np.array ([[1,2,3,4],[5,6,7,8]])\n",
    "\n",
    "after = before.reshape((4,2))\n",
    "print(after)"
   ]
  }
 ],
 "metadata": {
  "kernelspec": {
   "display_name": "base",
   "language": "python",
   "name": "python3"
  },
  "language_info": {
   "codemirror_mode": {
    "name": "ipython",
    "version": 3
   },
   "file_extension": ".py",
   "mimetype": "text/x-python",
   "name": "python",
   "nbconvert_exporter": "python",
   "pygments_lexer": "ipython3",
   "version": "3.10.11"
  }
 },
 "nbformat": 4,
 "nbformat_minor": 2
}
